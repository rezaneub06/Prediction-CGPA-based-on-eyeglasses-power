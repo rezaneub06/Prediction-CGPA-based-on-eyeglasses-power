{
 "cells": [
  {
   "cell_type": "code",
   "execution_count": 46,
   "metadata": {},
   "outputs": [],
   "source": [
    "import numpy as np\n",
    "import pandas as pd\n",
    "import matplotlib.pyplot as plt"
   ]
  },
  {
   "cell_type": "code",
   "execution_count": 47,
   "metadata": {},
   "outputs": [
    {
     "data": {
      "text/html": [
       "<div>\n",
       "<style scoped>\n",
       "    .dataframe tbody tr th:only-of-type {\n",
       "        vertical-align: middle;\n",
       "    }\n",
       "\n",
       "    .dataframe tbody tr th {\n",
       "        vertical-align: top;\n",
       "    }\n",
       "\n",
       "    .dataframe thead th {\n",
       "        text-align: right;\n",
       "    }\n",
       "</style>\n",
       "<table border=\"1\" class=\"dataframe\">\n",
       "  <thead>\n",
       "    <tr style=\"text-align: right;\">\n",
       "      <th></th>\n",
       "      <th>SSC_Group</th>\n",
       "      <th>SSC_Result</th>\n",
       "      <th>HSC_Group</th>\n",
       "      <th>HSC_Result</th>\n",
       "      <th>Eye_Glass_Power</th>\n",
       "      <th>CGPA</th>\n",
       "    </tr>\n",
       "  </thead>\n",
       "  <tbody>\n",
       "    <tr>\n",
       "      <th>0</th>\n",
       "      <td>Science</td>\n",
       "      <td>5.00</td>\n",
       "      <td>Science</td>\n",
       "      <td>3.92</td>\n",
       "      <td>2.90</td>\n",
       "      <td>3.67</td>\n",
       "    </tr>\n",
       "    <tr>\n",
       "      <th>1</th>\n",
       "      <td>Science</td>\n",
       "      <td>3.94</td>\n",
       "      <td>Humanities</td>\n",
       "      <td>4.75</td>\n",
       "      <td>1.75</td>\n",
       "      <td>3.25</td>\n",
       "    </tr>\n",
       "    <tr>\n",
       "      <th>2</th>\n",
       "      <td>Science</td>\n",
       "      <td>5.00</td>\n",
       "      <td>Science</td>\n",
       "      <td>5.00</td>\n",
       "      <td>2.50</td>\n",
       "      <td>3.46</td>\n",
       "    </tr>\n",
       "    <tr>\n",
       "      <th>3</th>\n",
       "      <td>Science</td>\n",
       "      <td>4.50</td>\n",
       "      <td>Science</td>\n",
       "      <td>4.60</td>\n",
       "      <td>0.50</td>\n",
       "      <td>3.25</td>\n",
       "    </tr>\n",
       "    <tr>\n",
       "      <th>4</th>\n",
       "      <td>Science</td>\n",
       "      <td>4.94</td>\n",
       "      <td>Science</td>\n",
       "      <td>4.67</td>\n",
       "      <td>0.50</td>\n",
       "      <td>3.66</td>\n",
       "    </tr>\n",
       "  </tbody>\n",
       "</table>\n",
       "</div>"
      ],
      "text/plain": [
       "  SSC_Group  SSC_Result   HSC_Group  HSC_Result  Eye_Glass_Power  CGPA\n",
       "0   Science        5.00     Science        3.92             2.90  3.67\n",
       "1   Science        3.94  Humanities        4.75             1.75  3.25\n",
       "2   Science        5.00     Science        5.00             2.50  3.46\n",
       "3   Science        4.50     Science        4.60             0.50  3.25\n",
       "4   Science        4.94     Science        4.67             0.50  3.66"
      ]
     },
     "execution_count": 47,
     "metadata": {},
     "output_type": "execute_result"
    }
   ],
   "source": [
    "data=pd.read_csv('data.csv', delimiter=',',names = ['SSC_Group','SSC_Result','HSC_Group','HSC_Result',\n",
    "                                                    'Eye_Glass_Power','CGPA'])\n",
    "data.head()\n"
   ]
  },
  {
   "cell_type": "code",
   "execution_count": 48,
   "metadata": {},
   "outputs": [],
   "source": [
    "x1=data.SSC_Result\n",
    "x2=data.HSC_Result\n",
    "x3=data.Eye_Glass_Power\n",
    "y=data.CGPA\n",
    "#print(x1[:3])"
   ]
  },
  {
   "cell_type": "code",
   "execution_count": 49,
   "metadata": {},
   "outputs": [
    {
     "data": {
      "image/png": "[encoded data removed]",
      "text/plain": [
       "<Figure size 432x288 with 1 Axes>"
      ]
     },
     "metadata": {
      "needs_background": "light"
     },
     "output_type": "display_data"
    }
   ],
   "source": [
    "plt.scatter(x3,y, color = 'red') \n",
    "plt.title('Eye_Glass_Power vs CGPA')\n",
    "plt.xlabel('Eye_Glass_Power')\n",
    "plt.ylabel('CGPA')\n",
    "plt.show()"
   ]
  },
  {
   "cell_type": "code",
   "execution_count": 50,
   "metadata": {},
   "outputs": [],
   "source": [
    "def DM1(m1,m2,m3,c,x1,x2,x3,y):\n",
    "    s=0\n",
    "    for i in range(len(x1)):\n",
    "        s+=x1[i]*(y[i]-m1*x1[i]-m2*x2[i]-m3*x3[i]-c)\n",
    "    return -(2/len(x1))*s"
   ]
  },
  {
   "cell_type": "code",
   "execution_count": 51,
   "metadata": {},
   "outputs": [],
   "source": [
    "def DM2(m1,m2,m3,c,x1,x2,x3,y):\n",
    "    s=0\n",
    "    for i in range(len(x1)):\n",
    "        s+=x2[i]*(y[i]-m1*x1[i]-m2*x2[i]-m3*x3[i]-c)\n",
    "    return -(2/len(x1))*s"
   ]
  },
  {
   "cell_type": "code",
   "execution_count": 52,
   "metadata": {},
   "outputs": [],
   "source": [
    "def DM3(m1,m2,m3,c,x1,x2,x3,y):\n",
    "    s=0\n",
    "    for i in range(len(x1)):\n",
    "        s+=x3[i]*(y[i]-m1*x1[i]-m2*x2[i]-m3*x3[i]-c)\n",
    "    return -(2/len(x1))*s"
   ]
  },
  {
   "cell_type": "code",
   "execution_count": 53,
   "metadata": {},
   "outputs": [],
   "source": [
    "def DC(m1,m2,m3,c,x1,x2,x3,y):\n",
    "    s=0\n",
    "    for i in range(len(x1)):\n",
    "        s+=(y[i]-m1*x1[i]-m2*x2[i]-m3*x3[i]-c)\n",
    "    return -(2/len(x1))*s"
   ]
  },
  {
   "cell_type": "code",
   "execution_count": 54,
   "metadata": {},
   "outputs": [],
   "source": [
    "def error(m1,m2,m3,c,x1,x2,x3,y):\n",
    "    s=0\n",
    "    for i in range(len(x1)):\n",
    "        y1=m1*x1[i]+m2*x2[i]+m3*x3[i]+c\n",
    "        s+=(y1-y[i])**2\n",
    "    return (1/len(x1))*s"
   ]
  },
  {
   "cell_type": "code",
   "execution_count": 55,
   "metadata": {},
   "outputs": [],
   "source": [
    "def GD(x1,x2,x3,y):\n",
    "    E=[]\n",
    "    m1=0\n",
    "    m2=0\n",
    "    m3=0\n",
    "    c=0\n",
    "    ep=10\n",
    "    L=0.01\n",
    "    for i in range(ep):\n",
    "        er=error(m1,m2,m3,c,x1,x2,x3,y)\n",
    "        E.append(er)\n",
    "        dm1=DM1(m1,m2,m3,c,x1,x2,x3,y)\n",
    "        dm2=DM2(m1,m2,m3,c,x1,x2,x3,y)\n",
    "        dm3=DM3(m1,m2,m3,c,x1,x2,x3,y)\n",
    "        dc=DC(m1,m2,m3,c,x1,x2,x3,y)\n",
    "        m1-=L*dm1\n",
    "        m2-=L*dm2\n",
    "        m3-=L*dm3\n",
    "        c-=L*dc\n",
    "        #print(m,c)\n",
    "    return m1,m2,m3,c,E"
   ]
  },
  {
   "cell_type": "code",
   "execution_count": 56,
   "metadata": {},
   "outputs": [
    {
     "name": "stdout",
     "output_type": "stream",
     "text": [
      "0.3848455336164432 0.36023243268912036 -0.015108843295042937 0.09010789024334738\n"
     ]
    }
   ],
   "source": [
    "m1,m2,m3,c,e=GD(x1,x2,x3,y)\n",
    "print(m1,m2,m3,c)\n",
    "#print(e)"
   ]
  },
  {
   "cell_type": "code",
   "execution_count": 57,
   "metadata": {},
   "outputs": [
    {
     "name": "stdout",
     "output_type": "stream",
     "text": [
      "[3.3826310489112905, 3.29106287219913, 3.777725613533558, 3.4714275602397735, 3.6659758653192474, 3.359580619609277, 3.521506218941042, 3.823052143418687, 3.4765974134702113, 3.6320284685854207, 3.4828907285282784, 3.1581030378809225, 3.721662402775124, 3.69904663851258, 3.831655884047425, 3.3911519519350333, 3.238776056474833, 3.1842950419511635, 3.7128060815688326, 3.4868820676470866, 3.076252607211081, 3.069020663490645, 3.2531117685831843, 3.589600608158236, 3.2552881006263017, 2.9208978990136836, 3.750216470081177, 3.8268293542424474, 2.0247472428506565, 3.8721558841275763, 3.7913235724990964, 3.4246201354175363, 3.793429408426578, 2.967820205274047, 3.710918523936772, 3.1914707358553938, 3.188867889142889, 3.01760909604032, 2.1922102248213946, 3.264864418560609, 3.278063157923414, 3.072097267410133, 2.157434399489705, 3.5846186901918924, 3.1219016150232957, 2.7202377926756074, 2.1302136356905454, 3.1754950116799825, 3.7353721540952107, 3.794345341158105, 3.363546826613926, 3.6000329622770875, 2.1077944473165195, 3.529410413582303, 2.838651895471886, 3.774703844874549, 3.3933282839781507, 3.605331303360074, 3.0015565216774998, 2.846487893565417, 2.4587303292037785, 3.0702567745813516, 3.721662402775124, 3.379968305651803, 3.1710540539444114, 3.707309001644833, 3.834383775889969, 3.2019796820192297, 3.493131147013328, 3.353875548438482, 3.554492698854748, 2.720547330347229, 3.7898126881695924, 3.028870436404233, 3.5668183528960764, 2.8725234074385924, 3.6429359270741264, 3.1406014757987135, 3.777725613533558, 3.7928344568286008, 3.3961738189774184, 3.322166475854395, 3.7979548634500433, 2.5306595673427146, 3.184640706063434, 3.781403332373226, 3.2847387519590434, 3.788301803840088, 2.2585401556075926, 3.744772633127614, 3.3469160783889382, 3.701558239058893, 3.0123539971252202, 3.6429359270741264, 3.5565882888525087, 3.4787440012481046, 3.5685836682356014, 2.848192060691594, 3.2864248090314923, 3.3588159250387424, 3.167453321907563, 1.7603635888282052]\n"
     ]
    }
   ],
   "source": [
    "PR=[]\n",
    "for i in range(len(x1)):\n",
    "    y1=m1*x1[i]+x2[i]*m2+x3[i]*m3+c\n",
    "    PR.append(y1)\n",
    "print(PR)"
   ]
  },
  {
   "cell_type": "code",
   "execution_count": 58,
   "metadata": {},
   "outputs": [
    {
     "data": {
      "image/png": "[encoded data removed]",
      "text/plain": [
       "<Figure size 432x288 with 1 Axes>"
      ]
     },
     "metadata": {
      "needs_background": "light"
     },
     "output_type": "display_data"
    }
   ],
   "source": [
    "plt.scatter(x3,PR, color = 'red')\n",
    "plt.show()"
   ]
  },
  {
   "cell_type": "code",
   "execution_count": 63,
   "metadata": {},
   "outputs": [
    {
     "name": "stdout",
     "output_type": "stream",
     "text": [
      "Enter S.S.C Result :5\n",
      "Enter H.S.C Result :5\n",
      "Enter  EGP :2.2\n",
      "3.7822582665220708\n"
     ]
    }
   ],
   "source": [
    "t1=eval(input(\"Enter S.S.C Result :\"))\n",
    "t2=eval(input(\"Enter H.S.C Result :\"))\n",
    "t3=eval(input(\"Enter  EGP :\"))\n",
    "p = m1*t1+m2*t2+m3*t3+c\n",
    "print(p)"
   ]
  },
  {
   "cell_type": "code",
   "execution_count": null,
   "metadata": {},
   "outputs": [],
   "source": []
  }
 ],
 "metadata": {
  "kernelspec": {
   "display_name": "Python 3",
   "language": "python",
   "name": "python3"
  },
  "language_info": {
   "codemirror_mode": {
    "name": "ipython",
    "version": 3
   },
   "file_extension": ".py",
   "mimetype": "text/x-python",
   "name": "python",
   "nbconvert_exporter": "python",
   "pygments_lexer": "ipython3",
   "version": "3.7.1"
  }
 },
 "nbformat": 4,
 "nbformat_minor": 2
}
